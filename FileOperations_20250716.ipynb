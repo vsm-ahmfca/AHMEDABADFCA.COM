{
  "nbformat": 4,
  "nbformat_minor": 0,
  "metadata": {
    "colab": {
      "provenance": [],
      "authorship_tag": "ABX9TyNIGRgV8dCMP99rtxYOn6TO",
      "include_colab_link": true
    },
    "kernelspec": {
      "name": "python3",
      "display_name": "Python 3"
    },
    "language_info": {
      "name": "python"
    }
  },
  "cells": [
    {
      "cell_type": "markdown",
      "metadata": {
        "id": "view-in-github",
        "colab_type": "text"
      },
      "source": [
        "<a href=\"https://colab.research.google.com/github/vsm-ahmfca/AHMEDABADFCA.COM/blob/master/FileOperations_20250716.ipynb\" target=\"_parent\"><img src=\"https://colab.research.google.com/assets/colab-badge.svg\" alt=\"Open In Colab\"/></a>"
      ]
    },
    {
      "cell_type": "code",
      "execution_count": 2,
      "metadata": {
        "colab": {
          "base_uri": "https://localhost:8080/"
        },
        "id": "IuFtQQ4uNvXX",
        "outputId": "2b9325e5-8b74-42e9-e953-63d15c0a1c6c"
      },
      "outputs": [
        {
          "output_type": "stream",
          "name": "stdout",
          "text": [
            "Enter the source file name: c:\\autoexec.bat\n",
            "Enter the destination file name: c:\\autoexec1.bat\n",
            "Error: The file 'c:\\autoexec.bat' does not exist.\n"
          ]
        }
      ],
      "source": [
        "\n",
        "# file_copy.py\n",
        "\n",
        "def copy_file(source, destination):\n",
        "        try:\n",
        "                with open(source, 'r') as src_file:\n",
        "                        content = src_file.read()\n",
        "                with open(destination, 'w') as dest_file:\n",
        "                        dest_file.write(content)\n",
        "                        print(f\"File copied from '{source}' to '{destination}'.\")\n",
        "\n",
        "        except FileNotFoundError:\n",
        "                print(f\"Error: The file '{source}' does not exist.\")\n",
        "        except PermissionError:\n",
        "                print(\"Error: You do not have permission to access one of the files.\")\n",
        "        except Exception as e:\n",
        "                print(f\"An unexpected error occurred: {e}\")\n",
        "\n",
        "def main():\n",
        "        source_file = input(\"Enter the source file name: \")\n",
        "        destination_file = input(\"Enter the destination file name: \")\n",
        "        copy_file(source_file, destination_file)\n",
        "\n",
        "if __name__ == \"__main__\":\n",
        "        main()"
      ]
    }
  ]
}